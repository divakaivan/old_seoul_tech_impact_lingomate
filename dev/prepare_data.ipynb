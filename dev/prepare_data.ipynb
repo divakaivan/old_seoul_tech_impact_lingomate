{
 "cells": [
  {
   "cell_type": "code",
   "execution_count": 1,
   "metadata": {},
   "outputs": [
    {
     "data": {
      "text/html": [
       "<div>\n",
       "<style scoped>\n",
       "    .dataframe tbody tr th:only-of-type {\n",
       "        vertical-align: middle;\n",
       "    }\n",
       "\n",
       "    .dataframe tbody tr th {\n",
       "        vertical-align: top;\n",
       "    }\n",
       "\n",
       "    .dataframe thead th {\n",
       "        text-align: right;\n",
       "    }\n",
       "</style>\n",
       "<table border=\"1\" class=\"dataframe\">\n",
       "  <thead>\n",
       "    <tr style=\"text-align: right;\">\n",
       "      <th></th>\n",
       "      <th>Category</th>\n",
       "      <th>Situation (English)</th>\n",
       "      <th>Situation (Korean)</th>\n",
       "      <th>English Question</th>\n",
       "      <th>Korean Question</th>\n",
       "      <th>English Answer</th>\n",
       "      <th>Korean Answer</th>\n",
       "    </tr>\n",
       "  </thead>\n",
       "  <tbody>\n",
       "    <tr>\n",
       "      <th>0</th>\n",
       "      <td>Restaurant</td>\n",
       "      <td>You are at a restaurant and your food is takin...</td>\n",
       "      <td>당신은 식당에 있는데 음식이 너무 오래 걸리고 있습니다.</td>\n",
       "      <td>Why is my food taking so long?</td>\n",
       "      <td>내 음식이 왜 이렇게 오래 걸리나요?</td>\n",
       "      <td>The kitchen is busy, but your food will be rea...</td>\n",
       "      <td>주방이 바쁘지만, 곧 음식이 준비될 것입니다.</td>\n",
       "    </tr>\n",
       "    <tr>\n",
       "      <th>1</th>\n",
       "      <td>Directions</td>\n",
       "      <td>You are lost in a new city and need directions.</td>\n",
       "      <td>당신은 새로운 도시에서 길을 잃었고 길 안내가 필요합니다.</td>\n",
       "      <td>How do I get to the nearest subway station?</td>\n",
       "      <td>가장 가까운 지하철역으로 어떻게 가나요?</td>\n",
       "      <td>Turn left at the next intersection and walk tw...</td>\n",
       "      <td>다음 교차로에서 좌회전하고 두 블록을 걸으세요.</td>\n",
       "    </tr>\n",
       "    <tr>\n",
       "      <th>2</th>\n",
       "      <td>Hotel</td>\n",
       "      <td>You are at a hotel and need extra towels.</td>\n",
       "      <td>당신은 호텔에 있으며 추가 수건이 필요합니다.</td>\n",
       "      <td>Can I have extra towels, please?</td>\n",
       "      <td>추가 수건을 받을 수 있나요?</td>\n",
       "      <td>Sure, we will send some to your room right away.</td>\n",
       "      <td>물론이죠, 곧 객실로 보내드리겠습니다.</td>\n",
       "    </tr>\n",
       "    <tr>\n",
       "      <th>3</th>\n",
       "      <td>Transportation</td>\n",
       "      <td>You missed your train and need to find the nex...</td>\n",
       "      <td>당신은 기차를 놓쳤고 다음 기차를 찾아야 합니다.</td>\n",
       "      <td>When is the next train to London?</td>\n",
       "      <td>다음 런던행 기차는 언제 있나요?</td>\n",
       "      <td>The next train to London is at 3:45 PM.</td>\n",
       "      <td>다음 런던행 기차는 오후 3시 45분입니다.</td>\n",
       "    </tr>\n",
       "    <tr>\n",
       "      <th>4</th>\n",
       "      <td>Shopping</td>\n",
       "      <td>You are shopping and want to know if an item i...</td>\n",
       "      <td>당신은 쇼핑 중이며 물건이 세일 중인지 알고 싶습니다.</td>\n",
       "      <td>Is this item on sale?</td>\n",
       "      <td>이 물건은 세일 중인가요?</td>\n",
       "      <td>Yes, it's 20% off today.</td>\n",
       "      <td>네, 오늘 20% 할인 중입니다.</td>\n",
       "    </tr>\n",
       "  </tbody>\n",
       "</table>\n",
       "</div>"
      ],
      "text/plain": [
       "         Category                                Situation (English)  \\\n",
       "0      Restaurant  You are at a restaurant and your food is takin...   \n",
       "1      Directions    You are lost in a new city and need directions.   \n",
       "2           Hotel          You are at a hotel and need extra towels.   \n",
       "3  Transportation  You missed your train and need to find the nex...   \n",
       "4        Shopping  You are shopping and want to know if an item i...   \n",
       "\n",
       "                 Situation (Korean)  \\\n",
       "0   당신은 식당에 있는데 음식이 너무 오래 걸리고 있습니다.   \n",
       "1  당신은 새로운 도시에서 길을 잃었고 길 안내가 필요합니다.   \n",
       "2         당신은 호텔에 있으며 추가 수건이 필요합니다.   \n",
       "3       당신은 기차를 놓쳤고 다음 기차를 찾아야 합니다.   \n",
       "4    당신은 쇼핑 중이며 물건이 세일 중인지 알고 싶습니다.   \n",
       "\n",
       "                              English Question         Korean Question  \\\n",
       "0               Why is my food taking so long?    내 음식이 왜 이렇게 오래 걸리나요?   \n",
       "1  How do I get to the nearest subway station?  가장 가까운 지하철역으로 어떻게 가나요?   \n",
       "2             Can I have extra towels, please?        추가 수건을 받을 수 있나요?   \n",
       "3            When is the next train to London?      다음 런던행 기차는 언제 있나요?   \n",
       "4                        Is this item on sale?          이 물건은 세일 중인가요?   \n",
       "\n",
       "                                      English Answer  \\\n",
       "0  The kitchen is busy, but your food will be rea...   \n",
       "1  Turn left at the next intersection and walk tw...   \n",
       "2   Sure, we will send some to your room right away.   \n",
       "3            The next train to London is at 3:45 PM.   \n",
       "4                           Yes, it's 20% off today.   \n",
       "\n",
       "                Korean Answer  \n",
       "0   주방이 바쁘지만, 곧 음식이 준비될 것입니다.  \n",
       "1  다음 교차로에서 좌회전하고 두 블록을 걸으세요.  \n",
       "2       물론이죠, 곧 객실로 보내드리겠습니다.  \n",
       "3    다음 런던행 기차는 오후 3시 45분입니다.  \n",
       "4          네, 오늘 20% 할인 중입니다.  "
      ]
     },
     "execution_count": 1,
     "metadata": {},
     "output_type": "execute_result"
    }
   ],
   "source": [
    "import pandas as pd\n",
    "\n",
    "df = pd.read_csv('../situations.csv')\n",
    "\n",
    "df.head()"
   ]
  },
  {
   "cell_type": "code",
   "execution_count": 12,
   "metadata": {},
   "outputs": [],
   "source": [
    "df.columns = ['category', 'situation_en', 'situation_kr', 'question_en', 'question_kr', 'answer_en', 'answer_kr'] "
   ]
  },
  {
   "cell_type": "code",
   "execution_count": 13,
   "metadata": {},
   "outputs": [
    {
     "data": {
      "text/html": [
       "<div>\n",
       "<style scoped>\n",
       "    .dataframe tbody tr th:only-of-type {\n",
       "        vertical-align: middle;\n",
       "    }\n",
       "\n",
       "    .dataframe tbody tr th {\n",
       "        vertical-align: top;\n",
       "    }\n",
       "\n",
       "    .dataframe thead th {\n",
       "        text-align: right;\n",
       "    }\n",
       "</style>\n",
       "<table border=\"1\" class=\"dataframe\">\n",
       "  <thead>\n",
       "    <tr style=\"text-align: right;\">\n",
       "      <th></th>\n",
       "      <th>category</th>\n",
       "      <th>situation_en</th>\n",
       "      <th>situation_kr</th>\n",
       "      <th>question_en</th>\n",
       "      <th>question_kr</th>\n",
       "      <th>answer_en</th>\n",
       "      <th>answer_kr</th>\n",
       "    </tr>\n",
       "  </thead>\n",
       "  <tbody>\n",
       "    <tr>\n",
       "      <th>0</th>\n",
       "      <td>Restaurant</td>\n",
       "      <td>You are at a restaurant and your food is takin...</td>\n",
       "      <td>당신은 식당에 있는데 음식이 너무 오래 걸리고 있습니다.</td>\n",
       "      <td>Why is my food taking so long?</td>\n",
       "      <td>내 음식이 왜 이렇게 오래 걸리나요?</td>\n",
       "      <td>The kitchen is busy, but your food will be rea...</td>\n",
       "      <td>주방이 바쁘지만, 곧 음식이 준비될 것입니다.</td>\n",
       "    </tr>\n",
       "  </tbody>\n",
       "</table>\n",
       "</div>"
      ],
      "text/plain": [
       "     category                                       situation_en  \\\n",
       "0  Restaurant  You are at a restaurant and your food is takin...   \n",
       "\n",
       "                      situation_kr                     question_en  \\\n",
       "0  당신은 식당에 있는데 음식이 너무 오래 걸리고 있습니다.  Why is my food taking so long?   \n",
       "\n",
       "            question_kr                                          answer_en  \\\n",
       "0  내 음식이 왜 이렇게 오래 걸리나요?  The kitchen is busy, but your food will be rea...   \n",
       "\n",
       "                   answer_kr  \n",
       "0  주방이 바쁘지만, 곧 음식이 준비될 것입니다.  "
      ]
     },
     "execution_count": 13,
     "metadata": {},
     "output_type": "execute_result"
    }
   ],
   "source": [
    "df.head(1)"
   ]
  },
  {
   "cell_type": "code",
   "execution_count": 14,
   "metadata": {},
   "outputs": [
    {
     "ename": "AttributeError",
     "evalue": "'DataFrame' object has no attribute 'Category'",
     "output_type": "error",
     "traceback": [
      "\u001b[0;31m---------------------------------------------------------------------------\u001b[0m",
      "\u001b[0;31mAttributeError\u001b[0m                            Traceback (most recent call last)",
      "\u001b[0;32m/var/folders/dz/nf0874bd6dx7_2jbvw0z7lcw0000gn/T/ipykernel_45440/3535485262.py\u001b[0m in \u001b[0;36m?\u001b[0;34m()\u001b[0m\n\u001b[0;32m----> 1\u001b[0;31m \u001b[0mdf\u001b[0m\u001b[0;34m.\u001b[0m\u001b[0mCategory\u001b[0m\u001b[0;34m.\u001b[0m\u001b[0munique\u001b[0m\u001b[0;34m(\u001b[0m\u001b[0;34m)\u001b[0m\u001b[0;34m\u001b[0m\u001b[0;34m\u001b[0m\u001b[0m\n\u001b[0m",
      "\u001b[0;32m~/miniconda3/lib/python3.11/site-packages/pandas/core/generic.py\u001b[0m in \u001b[0;36m?\u001b[0;34m(self, name)\u001b[0m\n\u001b[1;32m   6295\u001b[0m             \u001b[0;32mand\u001b[0m \u001b[0mname\u001b[0m \u001b[0;32mnot\u001b[0m \u001b[0;32min\u001b[0m \u001b[0mself\u001b[0m\u001b[0;34m.\u001b[0m\u001b[0m_accessors\u001b[0m\u001b[0;34m\u001b[0m\u001b[0;34m\u001b[0m\u001b[0m\n\u001b[1;32m   6296\u001b[0m             \u001b[0;32mand\u001b[0m \u001b[0mself\u001b[0m\u001b[0;34m.\u001b[0m\u001b[0m_info_axis\u001b[0m\u001b[0;34m.\u001b[0m\u001b[0m_can_hold_identifiers_and_holds_name\u001b[0m\u001b[0;34m(\u001b[0m\u001b[0mname\u001b[0m\u001b[0;34m)\u001b[0m\u001b[0;34m\u001b[0m\u001b[0;34m\u001b[0m\u001b[0m\n\u001b[1;32m   6297\u001b[0m         ):\n\u001b[1;32m   6298\u001b[0m             \u001b[0;32mreturn\u001b[0m \u001b[0mself\u001b[0m\u001b[0;34m[\u001b[0m\u001b[0mname\u001b[0m\u001b[0;34m]\u001b[0m\u001b[0;34m\u001b[0m\u001b[0;34m\u001b[0m\u001b[0m\n\u001b[0;32m-> 6299\u001b[0;31m         \u001b[0;32mreturn\u001b[0m \u001b[0mobject\u001b[0m\u001b[0;34m.\u001b[0m\u001b[0m__getattribute__\u001b[0m\u001b[0;34m(\u001b[0m\u001b[0mself\u001b[0m\u001b[0;34m,\u001b[0m \u001b[0mname\u001b[0m\u001b[0;34m)\u001b[0m\u001b[0;34m\u001b[0m\u001b[0;34m\u001b[0m\u001b[0m\n\u001b[0m",
      "\u001b[0;31mAttributeError\u001b[0m: 'DataFrame' object has no attribute 'Category'"
     ]
    }
   ],
   "source": [
    "df.Category.unique()"
   ]
  },
  {
   "cell_type": "code",
   "execution_count": 16,
   "metadata": {},
   "outputs": [
    {
     "data": {
      "text/plain": [
       "category\n",
       "College                20\n",
       "Airport                13\n",
       "Fitness                10\n",
       "Introduction           10\n",
       "Directions              8\n",
       "Hotel                   6\n",
       "Pharmacy                3\n",
       "Car Rental              3\n",
       "Conference              3\n",
       "Bookstore               3\n",
       "Tourist Information     3\n",
       "Hardware Store          3\n",
       "Bank                    3\n",
       "Gym                     3\n",
       "Restaurant              3\n",
       "Clothing Store          3\n",
       "Cafe                    3\n",
       "Library                 3\n",
       "Movie Theater           3\n",
       "Supermarket             3\n",
       "Parks                   3\n",
       "Flight                  3\n",
       "Museum                  3\n",
       "Shopping                3\n",
       "Transportation          3\n",
       "Gas Station             3\n",
       "Post Office             2\n",
       "Name: count, dtype: int64"
      ]
     },
     "execution_count": 16,
     "metadata": {},
     "output_type": "execute_result"
    }
   ],
   "source": [
    "df.category.value_counts()"
   ]
  },
  {
   "cell_type": "code",
   "execution_count": 17,
   "metadata": {},
   "outputs": [],
   "source": [
    "df_dict = df.to_dict(orient='records')"
   ]
  },
  {
   "cell_type": "code",
   "execution_count": 18,
   "metadata": {},
   "outputs": [],
   "source": [
    "import json\n",
    "\n",
    "file_name = 'situations.json'\n",
    "\n",
    "with open(file_name, 'w', encoding='utf-8') as json_file:\n",
    "    json.dump(df_dict, json_file, ensure_ascii=False, indent=4)"
   ]
  },
  {
   "cell_type": "code",
   "execution_count": null,
   "metadata": {},
   "outputs": [],
   "source": []
  }
 ],
 "metadata": {
  "kernelspec": {
   "display_name": "base",
   "language": "python",
   "name": "python3"
  },
  "language_info": {
   "codemirror_mode": {
    "name": "ipython",
    "version": 3
   },
   "file_extension": ".py",
   "mimetype": "text/x-python",
   "name": "python",
   "nbconvert_exporter": "python",
   "pygments_lexer": "ipython3",
   "version": "3.11.9"
  }
 },
 "nbformat": 4,
 "nbformat_minor": 2
}
