{
 "cells": [
  {
   "cell_type": "markdown",
   "metadata": {},
   "source": [
    "## Creating ElasticSearch Index"
   ]
  },
  {
   "cell_type": "code",
   "execution_count": 3,
   "metadata": {},
   "outputs": [],
   "source": [
    "from elasticsearch import Elasticsearch"
   ]
  },
  {
   "cell_type": "code",
   "execution_count": 4,
   "metadata": {},
   "outputs": [],
   "source": [
    "es_client = Elasticsearch('http://localhost:9200')"
   ]
  },
  {
   "cell_type": "code",
   "execution_count": 5,
   "metadata": {},
   "outputs": [
    {
     "data": {
      "text/plain": [
       "ObjectApiResponse({'acknowledged': True, 'shards_acknowledged': True, 'index': 'learning-english'})"
      ]
     },
     "execution_count": 5,
     "metadata": {},
     "output_type": "execute_result"
    }
   ],
   "source": [
    "index_settings = {\n",
    "    \"settings\": {\n",
    "        \"number_of_shards\": 1,\n",
    "        \"number_of_replicas\": 0\n",
    "    },\n",
    "    \"mappings\": {\n",
    "        \"properties\": {\n",
    "            \"category\": {\"type\": \"text\"},\n",
    "            \"situation_en\": {\"type\": \"text\"},\n",
    "            \"situation_kr\": {\"type\": \"text\"},\n",
    "            \"question_en\": {\"type\": \"text\"},\n",
    "            \"question_kr\": {\"type\": \"text\"},\n",
    "            \"answer_en\": {\"type\": \"text\"},\n",
    "            \"answer_kr\": {\"type\": \"text\"},\n",
    "        }\n",
    "    }\n",
    "}\n",
    "\n",
    "index_name = \"learning-english\"\n",
    "\n",
    "es_client.indices.create(index=index_name, body=index_settings)"
   ]
  },
  {
   "cell_type": "markdown",
   "metadata": {},
   "source": [
    "## Load documents"
   ]
  },
  {
   "cell_type": "code",
   "execution_count": 7,
   "metadata": {},
   "outputs": [
    {
     "name": "stderr",
     "output_type": "stream",
     "text": [
      "100%|██████████| 129/129 [00:00<00:00, 1332672.95it/s]\n"
     ]
    }
   ],
   "source": [
    "import json\n",
    "from tqdm import tqdm\n",
    "\n",
    "with open('../situations.json', 'rt') as f_in:\n",
    "    docs_raw = json.load(f_in)\n",
    "\n",
    "documents = []\n",
    "\n",
    "for doc in tqdm(docs_raw):\n",
    "    documents.append(doc)"
   ]
  },
  {
   "cell_type": "code",
   "execution_count": 8,
   "metadata": {},
   "outputs": [
    {
     "data": {
      "text/plain": [
       "{'category': 'Restaurant',\n",
       " 'situation_en': 'You are at a restaurant and your food is taking too long.',\n",
       " 'situation_kr': '당신은 식당에 있는데 음식이 너무 오래 걸리고 있습니다.',\n",
       " 'question_en': 'Why is my food taking so long?',\n",
       " 'question_kr': '내 음식이 왜 이렇게 오래 걸리나요?',\n",
       " 'answer_en': 'The kitchen is busy, but your food will be ready soon.',\n",
       " 'answer_kr': '주방이 바쁘지만, 곧 음식이 준비될 것입니다.'}"
      ]
     },
     "execution_count": 8,
     "metadata": {},
     "output_type": "execute_result"
    }
   ],
   "source": [
    "documents[0]"
   ]
  },
  {
   "cell_type": "code",
   "execution_count": 9,
   "metadata": {},
   "outputs": [
    {
     "name": "stderr",
     "output_type": "stream",
     "text": [
      "100%|██████████| 129/129 [00:00<00:00, 271.06it/s]\n"
     ]
    }
   ],
   "source": [
    "for doc in tqdm(documents):\n",
    "    es_client.index(index=index_name, document=doc)"
   ]
  },
  {
   "cell_type": "code",
   "execution_count": 10,
   "metadata": {},
   "outputs": [],
   "source": [
    "query = 'how do I order decaf coffee?'"
   ]
  },
  {
   "cell_type": "code",
   "execution_count": 50,
   "metadata": {},
   "outputs": [],
   "source": [
    "def elastic_search(query):\n",
    "    search_query = {\n",
    "        \"size\": 5,\n",
    "        \"query\": {\n",
    "            \"bool\": {\n",
    "                \"must\": {\n",
    "                    \"multi_match\": {\n",
    "                        \"query\": query,\n",
    "                        \"fields\": ['category', 'situation_en^3', 'situation_kr^3', 'question_en', 'question_kr', 'answer_en', 'answer_kr'],\n",
    "                        \"type\": \"best_fields\"\n",
    "                    }\n",
    "                }\n",
    "            }\n",
    "        }\n",
    "    }\n",
    "\n",
    "    response = es_client.search(index=index_name, body=search_query)\n",
    "    \n",
    "    result_docs = []\n",
    "    \n",
    "    for hit in response['hits']['hits']:\n",
    "        result_docs.append([hit['_source'], hit['_score']])\n",
    "    \n",
    "    return result_docs"
   ]
  },
  {
   "cell_type": "code",
   "execution_count": 54,
   "metadata": {},
   "outputs": [
    {
     "data": {
      "text/plain": [
       "[[{'category': 'Bookstore',\n",
       "   'situation_en': 'You are at a bookstore and want to know if they can order a book for you.',\n",
       "   'situation_kr': '당신은 서점에 있으며 책을 주문할 수 있는지 알고 싶습니다.',\n",
       "   'question_en': 'Can you order this book for me?',\n",
       "   'question_kr': '이 책을 주문해 주시겠어요?',\n",
       "   'answer_en': 'Yes, we can order it and it should arrive within a week.',\n",
       "   'answer_kr': '네, 주문할 수 있으며 일주일 내로 도착할 예정입니다.'},\n",
       "  24.009493],\n",
       " [{'category': 'Library',\n",
       "   'situation_en': 'You are at a library and need help finding a book.',\n",
       "   'situation_kr': '당신은 도서관에 있으며 책을 찾는 데 도움이 필요합니다.',\n",
       "   'question_en': 'Can you help me find this book?',\n",
       "   'question_kr': '이 책을 찾는 데 도와주시겠어요?',\n",
       "   'answer_en': \"Sure, it's located in the fiction section on the second floor.\",\n",
       "   'answer_kr': '물론이죠, 이 책은 2층 소설 코너에 있습니다.'},\n",
       "  13.687327],\n",
       " [{'category': 'Flight',\n",
       "   'situation_en': 'You are trying to book a flight and need to know the baggage policy.',\n",
       "   'situation_kr': '당신은 항공편을 예약하려고 하며 수하물 정책을 알고 싶습니다.',\n",
       "   'question_en': 'What is the baggage policy for this airline?',\n",
       "   'question_kr': '이 항공사의 수하물 정책은 무엇인가요?',\n",
       "   'answer_en': 'You can check in one bag for free and carry on one personal item.',\n",
       "   'answer_kr': '수하물 하나는 무료로 체크인할 수 있으며, 개인 소지품 하나는 기내 반입 가능합니다.'},\n",
       "  12.804367],\n",
       " [{'category': 'Fitness',\n",
       "   'situation_en': 'You are asking for guidance on how to deepen a pose.',\n",
       "   'situation_kr': '당신은 자세를 더 깊게 만드는 방법에 대해 조언을 구하고 있습니다.',\n",
       "   'question_en': 'How can I deepen this pose?',\n",
       "   'question_kr': '이 자세를 더 깊게 하려면 어떻게 해야 하나요?',\n",
       "   'answer_en': 'Relax into the stretch with each exhale, and gradually increase the depth over time.',\n",
       "   'answer_kr': '숨을 내쉴 때마다 이완하고, 점차적으로 깊이를 더해보세요.'},\n",
       "  8.655096],\n",
       " [{'category': 'Bank',\n",
       "   'situation_en': 'You are at a bank and want to know how to open a checking account.',\n",
       "   'situation_kr': '당신은 은행에 있으며 당좌 계좌를 개설하는 방법을 알고 싶습니다.',\n",
       "   'question_en': 'How do I open a checking account?',\n",
       "   'question_kr': '당좌 계좌를 어떻게 개설하나요?',\n",
       "   'answer_en': 'You need to provide identification and a minimum deposit of $100.',\n",
       "   'answer_kr': '신분증과 최소 100달러의 예치금이 필요합니다.'},\n",
       "  8.41434]]"
      ]
     },
     "execution_count": 54,
     "metadata": {},
     "output_type": "execute_result"
    }
   ],
   "source": [
    "elastic_search('how to order a book?')"
   ]
  },
  {
   "cell_type": "markdown",
   "metadata": {},
   "source": [
    "## Retrival"
   ]
  },
  {
   "cell_type": "code",
   "execution_count": 57,
   "metadata": {},
   "outputs": [],
   "source": [
    "def build_prompt(query, search_results):\n",
    "    prompt_template = \"\"\"\n",
    "You are an English teacher who is helping students learn English expressions for different real-life situations. \n",
    "Based on the provided CONTEXT provide an appropriate response in English and Korean to the user's QUESTION.\n",
    "Use only the facts from the CONTEXT to answer the QUESTION. Do not add any additional information.\n",
    "\n",
    "QUESTION: {question}\n",
    "\n",
    "CONTEXT: \n",
    "{context}\n",
    "\"\"\".strip()\n",
    "\n",
    "    context = \"\\n\".join(\n",
    "        f\"Category: {doc[0]['category']}\\n\"\n",
    "        f\"Situation English: {doc[0]['situation_en']}\\n\"\n",
    "        f\"Situation Korean: {doc[0]['situation_kr']}\\n\"\n",
    "        f\"Question English: {doc[0]['question_en']}\\n\"\n",
    "        f\"Question Korean: {doc[0]['question_kr']}\\n\"\n",
    "        f\"Answer English: {doc[0]['answer_en']}\\n\"\n",
    "        f\"Answer Korean: {doc[0]['answer_kr']}\\n\"\n",
    "        for doc in search_results\n",
    "    )\n",
    "    \n",
    "    prompt = prompt_template.format(question=query, context=context).strip()\n",
    "    return prompt"
   ]
  },
  {
   "cell_type": "code",
   "execution_count": 58,
   "metadata": {},
   "outputs": [],
   "source": [
    "from langchain_core.prompts import ChatPromptTemplate\n",
    "from langchain_ollama.llms import OllamaLLM\n",
    "\n",
    "def rag(query):\n",
    "    search_results = elastic_search(query)\n",
    "    prompt = build_prompt(query, search_results)\n",
    "    prompt = ChatPromptTemplate.from_template(prompt)\n",
    "    llm = OllamaLLM(model=\"llama3.1\")\n",
    "    chain = prompt | llm\n",
    "    answer = chain.invoke({})\n",
    "    \n",
    "    return answer"
   ]
  },
  {
   "cell_type": "code",
   "execution_count": 59,
   "metadata": {},
   "outputs": [
    {
     "name": "stdout",
     "output_type": "stream",
     "text": [
      "Based on the provided CONTEXT, which is a cafe situation where you want to know if they can offer refills on coffee, here's the response:\n",
      "\n",
      "**Question:** What do I say if I want to order a decaf coffee?\n",
      "\n",
      "**English Response:** Do you have decaf coffee?\n",
      "**Korean Response:** 디카페인 커피가 있어요?\n"
     ]
    }
   ],
   "source": [
    "answer = rag('what do I say if I want to order a decaf coffee?')\n",
    "print(answer)"
   ]
  },
  {
   "cell_type": "code",
   "execution_count": null,
   "metadata": {},
   "outputs": [],
   "source": []
  }
 ],
 "metadata": {
  "kernelspec": {
   "display_name": "base",
   "language": "python",
   "name": "python3"
  },
  "language_info": {
   "codemirror_mode": {
    "name": "ipython",
    "version": 3
   },
   "file_extension": ".py",
   "mimetype": "text/x-python",
   "name": "python",
   "nbconvert_exporter": "python",
   "pygments_lexer": "ipython3",
   "version": "3.11.9"
  }
 },
 "nbformat": 4,
 "nbformat_minor": 2
}
